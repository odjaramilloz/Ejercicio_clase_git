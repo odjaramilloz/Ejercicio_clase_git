{
 "cells": [
  {
   "cell_type": "markdown",
   "metadata": {},
   "source": [
    "# Ejercicios clase git 1"
   ]
  },
  {
   "cell_type": "markdown",
   "metadata": {},
   "source": [
    "# Modificación pc mio"
   ]
  },
  {
   "cell_type": "code",
   "execution_count": 1,
   "metadata": {},
   "outputs": [],
   "source": [
    "def funcion_prueba():\n",
    "    return"
   ]
  },
  {
   "cell_type": "markdown",
   "metadata": {},
   "source": [
    "# 1\n",
    "La sucesión de Fibonacci se define de la siguiente forma: a1=1, a2=1 y an=an-1+an-2 para n>2, es decir los dos primeros son 1 y el resto cada uno es la suma de los dos anteriores, los primeros son: 1, 1, 2, 3, 5, 8, 13, 21, ... Hacer un diagrama de flujo para calcular el Nésimo término de la sucesión.\n",
    "\n",
    "# 2 \n",
    "Elabora un programa que solicite la medida en Pies y realice la conversión a pulgadas, yardas, cm y metros. Toma en cuenta que un pie tiene 12 pulgadas y una pulgada equivale a 2.54 cm.\n",
    "\n",
    "# 3\n",
    "Escribir un programa que pregunte al usuario su nombre, edad, dirección y teléfono y lo guarde en un diccionario. Después debe mostrar por pantalla el mensaje <nombre> tiene <edad> años, vive en <dirección> y su número de teléfono es <teléfono>.\n",
    "    \n",
    "# 4\n",
    "Escribir un programa que cree un diccionario vacío y lo vaya llenado con información sobre una persona (por ejemplo nombre, edad, sexo, teléfono, correo electrónico, etc.) que se le pida al usuario. Cada vez que se añada un nuevo dato debe imprimirse el contenido del diccionario.\n",
    "    \n",
    "# 5\n",
    "Escribir una función que simule una calculadora científica que permita calcular el seno, coseno, tangente, exponencial y logaritmo neperiano. La función preguntará al usuario el valor y la función a aplicar, y mostrará por pantalla una tabla con los enteros de 1 al valor introducido y el resultado de aplicar la función a esos enteros."
   ]
  },
  {
   "cell_type": "code",
   "execution_count": 1,
   "metadata": {
    "scrolled": false
   },
   "outputs": [
    {
     "data": {
      "text/plain": [
       "['estudiante 1 ejercicio 1',\n",
       " 'estudiante 2 ejercicio 2',\n",
       " 'estudiante 3 ejercicio 3',\n",
       " 'estudiante 4 ejercicio 4',\n",
       " 'estudiante 5 ejercicio 5',\n",
       " 'estudiante 6 ejercicio 1',\n",
       " 'estudiante 7 ejercicio 2',\n",
       " 'estudiante 8 ejercicio 3',\n",
       " 'estudiante 9 ejercicio 4',\n",
       " 'estudiante 10 ejercicio 5',\n",
       " 'estudiante 11 ejercicio 1',\n",
       " 'estudiante 12 ejercicio 2',\n",
       " 'estudiante 13 ejercicio 3',\n",
       " 'estudiante 14 ejercicio 4',\n",
       " 'estudiante 15 ejercicio 5',\n",
       " 'estudiante 16 ejercicio 1',\n",
       " 'estudiante 17 ejercicio 2',\n",
       " 'estudiante 18 ejercicio 3',\n",
       " 'estudiante 19 ejercicio 4',\n",
       " 'estudiante 20 ejercicio 5',\n",
       " 'estudiante 21 ejercicio 1',\n",
       " 'estudiante 22 ejercicio 2',\n",
       " 'estudiante 23 ejercicio 3',\n",
       " 'estudiante 24 ejercicio 4',\n",
       " 'estudiante 25 ejercicio 5']"
      ]
     },
     "execution_count": 1,
     "metadata": {},
     "output_type": "execute_result"
    }
   ],
   "source": [
    "# Profesor\n",
    "import numpy as np\n",
    "ejercicios = np.tile(np.arange(1,6), 5)\n",
    "estudiantes = np.arange(1, 26)\n",
    "clase = []\n",
    "\n",
    "for est, ejer in zip(estudiantes, ejercicios):\n",
    "    clase.append(f'estudiante {est} ejercicio {ejer}')\n",
    "    \n",
    "clase"
   ]
  },
  {
   "cell_type": "markdown",
   "metadata": {},
   "source": [
    "Creo que hay que meter esta ecuación \n",
    "\\begin{equation}\n",
    "\\dot x = Ax + B u, \\quad x \\in \\mathbb{R}^n\n",
    "\\end{equation}"
   ]
  },
  {
   "cell_type": "code",
   "execution_count": 1,
   "metadata": {},
   "outputs": [
    {
     "name": "stdout",
     "output_type": "stream",
     "text": [
      "Numero máximo de la sucesión: 1000\n",
      "1 1 2 3 5 8 13 21 34 55 89 144 233 377 610 987 \n"
     ]
    }
   ],
   "source": [
    "# 1 - ejercicio 1\n",
    "#Juan Enrique Aguirre\n",
    "\n",
    "#La sucesión de Fibonacci se define de la siguiente forma: a1=1, a2=1 y an=an-1+an-2 para n>2, es decir los dos primeros \n",
    "#son 1 y el resto cada uno es la suma de los dos anteriores, los primeros son: 1, 1, 2, 3, 5, 8, 13, 21, ... Hacer un \n",
    "#diagrama de flujo para calcular el Nésimo término de la sucesión.\n",
    "\n",
    "def fib(n):\n",
    "    a1, a2 = 1, 1\n",
    "    while a1 < n:\n",
    "        print(a1, end=' ')\n",
    "        a1, a2 = a2, a1 + a2\n",
    "    print()\n",
    "#fib(1000)\n",
    "n = int(input(\"Numero máximo de la sucesión: \")) \n",
    "fib(n)"
   ]
  },
  {
   "cell_type": "code",
   "execution_count": null,
   "metadata": {},
   "outputs": [],
   "source": [
    "# 2 - ejercicio 2"
   ]
  },
  {
   "cell_type": "code",
   "execution_count": null,
   "metadata": {},
   "outputs": [],
   "source": [
    "# 3 - ejercicio 3"
   ]
  },
  {
   "cell_type": "code",
   "execution_count": null,
   "metadata": {},
   "outputs": [],
   "source": [
    "# 4 - ejercicio 4"
   ]
  },
  {
   "cell_type": "code",
   "execution_count": 20,
   "metadata": {},
   "outputs": [
    {
     "name": "stdout",
     "output_type": "stream",
     "text": [
      "Ingresa la función que deseas calcular (sin, cos, tan, exp, log): \n",
      "cos\n",
      "Ingresa el número que deseas calcular:\n",
      "5\n",
      "0.28366218546322625\n"
     ]
    }
   ],
   "source": [
    "# 5 - ejercicio 5\n",
    "import math\n",
    "print(\"Ingresa la función que deseas calcular (sin, cos, tan, exp, log): \")\n",
    "fun = input()\n",
    "print(\"Ingresa el número que deseas calcular:\")\n",
    "num = input()\n",
    "num2 = float(num)\n",
    "\n",
    "def seno(x):\n",
    "    R = math.sin(x)\n",
    "    print (R)\n",
    "def coseno(x):\n",
    "    R = math.cos(x)\n",
    "    print (R)\n",
    "def tangente(x):\n",
    "    R = math.tan(x)\n",
    "    print (R)\n",
    "def exponente(x):\n",
    "    R = math.exp(x)\n",
    "    print (R)\n",
    "def logaritmo(x):\n",
    "    R = math.log(x)\n",
    "    print (R)   \n",
    "    \n",
    "if fun == 'sin':\n",
    "    seno(num2)\n",
    "elif fun == 'cos':\n",
    "    coseno(num2)\n",
    "elif fun == 'tan':\n",
    "    tangente(num2)\n",
    "elif fun == 'exp':\n",
    "    exponente(num2)\n",
    "else:\n",
    "    fun== 'log'\n",
    "    logaritmo(num2)\n",
    "       "
   ]
  },
  {
   "cell_type": "code",
   "execution_count": null,
   "metadata": {},
   "outputs": [],
   "source": [
    "# 6 - ejercicio 1"
   ]
  },
  {
   "cell_type": "code",
   "execution_count": null,
   "metadata": {},
   "outputs": [],
   "source": [
    "# 7 - ejercicio 2"
   ]
  },
  {
   "cell_type": "code",
   "execution_count": null,
   "metadata": {},
   "outputs": [],
   "source": [
    "# 8 - ejercicio 3\n",
    "#roberto chávez\n",
    "nombre=input(\"nombre\")\n",
    "edad=input(\"edad\")\n",
    "dirección=input(\"dirección\")\n",
    "telefono=input(\"telefono\")\n",
    "print(nombre ,\"tiene\", edad ,\"y su direccion es\" ,direccion ,\"y su telefono es\" ,telefono)"
   ]
  },
  {
   "cell_type": "code",
   "execution_count": null,
   "metadata": {},
   "outputs": [],
   "source": [
    "# 9 - ejercicio 4"
   ]
  },
  {
   "cell_type": "code",
   "execution_count": null,
   "metadata": {},
   "outputs": [],
   "source": [
    "# 10 - ejercicio 5"
   ]
  },
  {
   "cell_type": "code",
   "execution_count": 16,
   "metadata": {},
   "outputs": [
    {
     "name": "stdout",
     "output_type": "stream",
     "text": [
      "Secuencia de Fibonacci\n",
      "0\n",
      "1\n",
      "1\n",
      "2\n",
      "3\n",
      "5\n",
      "8\n",
      "13\n",
      "21\n",
      "34\n"
     ]
    }
   ],
   "source": [
    "# 11 - ejercicio 1\n",
    "#Ariadna Desirée Galindo Marín \n",
    "def fibonacci(n):\n",
    "    if n<=1:\n",
    "        return n\n",
    "    else:\n",
    "        return(fibonacci(n-1)+fibonacci(n-2))\n",
    "\n",
    "nesimo=10\n",
    "\n",
    "#valido o no?\n",
    "if nesimo<0:\n",
    "    print(\"termino invalido\")\n",
    "else:\n",
    "    print(\"Secuencia de Fibonacci\")\n",
    "    for i in range(nesimo):\n",
    "        print(fibonacci(i))"
   ]
  },
  {
   "cell_type": "code",
   "execution_count": null,
   "metadata": {},
   "outputs": [],
   "source": [
    "# 12 - ejercicio 2"
   ]
  },
  {
   "cell_type": "code",
   "execution_count": 8,
   "metadata": {},
   "outputs": [
    {
     "name": "stdout",
     "output_type": "stream",
     "text": [
      "Ingrese su nombreRenatta García\n",
      "Ingrese su edad24\n",
      "Ingrese su direcciónAv. Tepeyac\n",
      "Ingrese su teléfono3316\n",
      "Su nombre es Renatta García , tiene 24 años. Vive en: Av. Tepeyac y su número de teléfono es: 3316\n"
     ]
    }
   ],
   "source": [
    "# 13 - ejercicio 3\n",
    "#Renatta García Sánchez, ejercicio 3\n",
    "\n",
    "#Solicitar valores \n",
    "\n",
    "nombre=input(\"Ingrese su nombre\")\n",
    "edad=input(\"Ingrese su edad\")\n",
    "direccion= input(\"Ingrese su dirección\")\n",
    "tel= input(\"Ingrese su teléfono\")\n",
    "\n",
    "#crear diccionario\n",
    "diccionario={'Nombre': nombre, 'Edad': edad, 'Dirección': direccion, 'Teléfono': tel}\n",
    "\n",
    "#impresión de valores\n",
    "print('Su nombre es', diccionario.get('Nombre'), \n",
    "      ', tiene', diccionario.get('Edad'), 'años.',\n",
    "      'Vive en:', diccionario.get('Dirección'),\n",
    "      'y su número de teléfono es:', diccionario.get('Teléfono'))"
   ]
  },
  {
   "cell_type": "code",
   "execution_count": null,
   "metadata": {},
   "outputs": [],
   "source": [
    "# 14 - ejercicio 4"
   ]
  },
  {
   "cell_type": "code",
   "execution_count": null,
   "metadata": {},
   "outputs": [],
   "source": [
    "# 15 - ejercicio 5"
   ]
  },
  {
   "cell_type": "code",
   "execution_count": null,
   "metadata": {},
   "outputs": [],
   "source": [
    "# 16 - ejercicio 1"
   ]
  },
  {
   "cell_type": "code",
   "execution_count": null,
   "metadata": {},
   "outputs": [],
   "source": [
    "# 17 - ejercicio 2"
   ]
  },
  {
   "cell_type": "code",
   "execution_count": null,
   "metadata": {},
   "outputs": [],
   "source": [
    "# 18  - ejercicio 3"
   ]
  },
  {
   "cell_type": "code",
   "execution_count": null,
   "metadata": {},
   "outputs": [],
   "source": [
    "# 19 - ejercicio 4"
   ]
  },
  {
   "cell_type": "code",
   "execution_count": null,
   "metadata": {},
   "outputs": [],
   "source": [
    "# 20  - ejercicio 5"
   ]
  },
  {
   "cell_type": "code",
   "execution_count": 1,
   "metadata": {},
   "outputs": [
    {
     "name": "stdout",
     "output_type": "stream",
     "text": [
      "Ingrese el término n a obtener 5\n",
      "Fibonacci sequence:\n",
      "0\n",
      "1\n",
      "1\n",
      "2\n",
      "3\n"
     ]
    }
   ],
   "source": [
    "# 21 - ejercicio 1\n",
    "#Pablo Muñoz\n",
    "def Fibo(n):  \n",
    "    if n <= 1:  \n",
    "        return n\n",
    "    else:  \n",
    "        return(Fibo(n-1) + Fibo(n-2))  \n",
    "nterms = int(input(\"Ingrese el término n a obtener \"))  # take input from the user\n",
    "print(\"Fibonacci sequence:\")\n",
    "for i in range(nterms):  \n",
    "    print(Fibo(i))"
   ]
  },
  {
   "cell_type": "code",
   "execution_count": null,
   "metadata": {},
   "outputs": [],
   "source": [
    "# 22 - ejercicio 2"
   ]
  },
  {
   "cell_type": "code",
   "execution_count": null,
   "metadata": {},
   "outputs": [],
   "source": [
    "# 23 - ejercicio 3"
   ]
  },
  {
   "cell_type": "code",
   "execution_count": null,
   "metadata": {},
   "outputs": [],
   "source": [
    "# 24 - ejercicio 4"
   ]
  },
  {
   "cell_type": "code",
   "execution_count": null,
   "metadata": {},
   "outputs": [],
   "source": [
    "# 25 - ejercicio 5"
   ]
  }
 ],
 "metadata": {
  "kernelspec": {
   "display_name": "Python 3",
   "language": "python",
   "name": "python3"
  },
  "language_info": {
   "codemirror_mode": {
    "name": "ipython",
    "version": 3
   },
   "file_extension": ".py",
   "mimetype": "text/x-python",
   "name": "python",
   "nbconvert_exporter": "python",
   "pygments_lexer": "ipython3",
   "version": "3.8.5"
  }
 },
 "nbformat": 4,
 "nbformat_minor": 4
}
